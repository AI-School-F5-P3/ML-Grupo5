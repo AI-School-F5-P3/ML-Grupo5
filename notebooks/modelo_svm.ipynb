{
 "cells": [
  {
   "cell_type": "markdown",
   "metadata": {},
   "source": [
    "### Máquina de Soporte Vectorial (SVM)"
   ]
  },
  {
   "cell_type": "markdown",
   "metadata": {},
   "source": [
    "Importar librerías"
   ]
  },
  {
   "cell_type": "code",
   "execution_count": 1,
   "metadata": {},
   "outputs": [],
   "source": [
    "import numpy as np\n",
    "import pandas as pd\n",
    "import matplotlib.pyplot as plt\n",
    "import seaborn as sns"
   ]
  },
  {
   "cell_type": "markdown",
   "metadata": {},
   "source": [
    "Cargar dataset"
   ]
  },
  {
   "cell_type": "code",
   "execution_count": 2,
   "metadata": {},
   "outputs": [
    {
     "data": {
      "text/html": [
       "<div>\n",
       "<style scoped>\n",
       "    .dataframe tbody tr th:only-of-type {\n",
       "        vertical-align: middle;\n",
       "    }\n",
       "\n",
       "    .dataframe tbody tr th {\n",
       "        vertical-align: top;\n",
       "    }\n",
       "\n",
       "    .dataframe thead th {\n",
       "        text-align: right;\n",
       "    }\n",
       "</style>\n",
       "<table border=\"1\" class=\"dataframe\">\n",
       "  <thead>\n",
       "    <tr style=\"text-align: right;\">\n",
       "      <th></th>\n",
       "      <th>Age</th>\n",
       "      <th>Flight Distance</th>\n",
       "      <th>Inflight wifi service</th>\n",
       "      <th>Departure/Arrival time convenient</th>\n",
       "      <th>Ease of Online booking</th>\n",
       "      <th>Gate location</th>\n",
       "      <th>Food and drink</th>\n",
       "      <th>Online boarding</th>\n",
       "      <th>Seat comfort</th>\n",
       "      <th>Inflight entertainment</th>\n",
       "      <th>...</th>\n",
       "      <th>Checkin service</th>\n",
       "      <th>Inflight service</th>\n",
       "      <th>Cleanliness</th>\n",
       "      <th>Departure Delay in Minutes</th>\n",
       "      <th>Arrival Delay in Minutes</th>\n",
       "      <th>Gender</th>\n",
       "      <th>Customer Type</th>\n",
       "      <th>Type of Travel</th>\n",
       "      <th>Class</th>\n",
       "      <th>satisfaction</th>\n",
       "    </tr>\n",
       "  </thead>\n",
       "  <tbody>\n",
       "    <tr>\n",
       "      <th>0</th>\n",
       "      <td>13.0</td>\n",
       "      <td>460.0</td>\n",
       "      <td>3.0</td>\n",
       "      <td>4.0</td>\n",
       "      <td>3.0</td>\n",
       "      <td>1.0</td>\n",
       "      <td>5.0</td>\n",
       "      <td>3.0</td>\n",
       "      <td>5.0</td>\n",
       "      <td>5.0</td>\n",
       "      <td>...</td>\n",
       "      <td>4.0</td>\n",
       "      <td>5.0</td>\n",
       "      <td>5.0</td>\n",
       "      <td>25.0</td>\n",
       "      <td>18.0</td>\n",
       "      <td>1</td>\n",
       "      <td>0</td>\n",
       "      <td>1</td>\n",
       "      <td>2</td>\n",
       "      <td>0</td>\n",
       "    </tr>\n",
       "    <tr>\n",
       "      <th>1</th>\n",
       "      <td>25.0</td>\n",
       "      <td>235.0</td>\n",
       "      <td>3.0</td>\n",
       "      <td>2.0</td>\n",
       "      <td>3.0</td>\n",
       "      <td>3.0</td>\n",
       "      <td>1.0</td>\n",
       "      <td>3.0</td>\n",
       "      <td>1.0</td>\n",
       "      <td>1.0</td>\n",
       "      <td>...</td>\n",
       "      <td>1.0</td>\n",
       "      <td>4.0</td>\n",
       "      <td>1.0</td>\n",
       "      <td>1.0</td>\n",
       "      <td>6.0</td>\n",
       "      <td>1</td>\n",
       "      <td>1</td>\n",
       "      <td>0</td>\n",
       "      <td>0</td>\n",
       "      <td>0</td>\n",
       "    </tr>\n",
       "  </tbody>\n",
       "</table>\n",
       "<p>2 rows × 23 columns</p>\n",
       "</div>"
      ],
      "text/plain": [
       "    Age  Flight Distance  Inflight wifi service  \\\n",
       "0  13.0            460.0                    3.0   \n",
       "1  25.0            235.0                    3.0   \n",
       "\n",
       "   Departure/Arrival time convenient  Ease of Online booking  Gate location  \\\n",
       "0                                4.0                     3.0            1.0   \n",
       "1                                2.0                     3.0            3.0   \n",
       "\n",
       "   Food and drink  Online boarding  Seat comfort  Inflight entertainment  ...  \\\n",
       "0             5.0              3.0           5.0                     5.0  ...   \n",
       "1             1.0              3.0           1.0                     1.0  ...   \n",
       "\n",
       "   Checkin service  Inflight service  Cleanliness  Departure Delay in Minutes  \\\n",
       "0              4.0               5.0          5.0                        25.0   \n",
       "1              1.0               4.0          1.0                         1.0   \n",
       "\n",
       "   Arrival Delay in Minutes  Gender  Customer Type  Type of Travel  Class  \\\n",
       "0                      18.0       1              0               1      2   \n",
       "1                       6.0       1              1               0      0   \n",
       "\n",
       "   satisfaction  \n",
       "0             0  \n",
       "1             0  \n",
       "\n",
       "[2 rows x 23 columns]"
      ]
     },
     "execution_count": 2,
     "metadata": {},
     "output_type": "execute_result"
    }
   ],
   "source": [
    "df = pd.read_csv('../data/airline_cleaned.csv')\n",
    "df.head(2)"
   ]
  },
  {
   "cell_type": "markdown",
   "metadata": {},
   "source": [
    "Separar las Características (X) y la Etiqueta (y)\n",
    "\n",
    "+ y = satisfaction (variable a predecir)\n",
    "* X "
   ]
  },
  {
   "cell_type": "code",
   "execution_count": 3,
   "metadata": {},
   "outputs": [],
   "source": [
    "X = df.drop(columns=['satisfaction'])\n",
    "y = df['satisfaction']"
   ]
  },
  {
   "cell_type": "markdown",
   "metadata": {},
   "source": [
    "#### Dividir el Conjunto de Datos\n",
    "\n",
    "Se divide el dataset en conjuntos de entrenamiento y prueba:\n",
    "\n",
    "* X_train, y_train: Se utilizan para entrenar el modelo (80% de los datos).\n",
    "\n",
    "* X_test, y_test: Se utilizan para evaluar el modelo (20% de los datos).\n",
    "\n",
    "* test_size=0.20: Indica que el 20% de los datos se reservarán para pruebas.\n",
    "\n",
    "* random_state=0: Para asegurar que la división sea reproducible."
   ]
  },
  {
   "cell_type": "markdown",
   "metadata": {},
   "source": [
    "#### Entrenamiento del Modelo\n"
   ]
  },
  {
   "cell_type": "code",
   "execution_count": 4,
   "metadata": {},
   "outputs": [],
   "source": [
    "from sklearn.svm import SVC\n",
    "from sklearn.metrics import accuracy_score\n",
    "from sklearn.model_selection import cross_val_score, train_test_split\n",
    "\n",
    "\n",
    "X_train, X_test, y_train, y_test = train_test_split(X, y, test_size=0.2, random_state=42)\n",
    "\n",
    "# Lista de valores de C para probar\n",
    "C_values = [0.1, 1, 10]\n",
    "kernels = ['linear', 'rbf', 'poly']\n",
    "\n",
    "# Diccionarios para almacenar los resultados\n",
    "results = {kernel: {'train_scores': [], 'cv_scores': [], 'test_scores': []} for kernel in kernels}\n",
    "\n",
    "for kernel in kernels:\n",
    "    for C in C_values:\n",
    "        # Crear y entrenar el modelo\n",
    "        svm = SVC(C=C, kernel=kernel, random_state=42)\n",
    "        \n",
    "        # Calcular puntuación de entrenamiento\n",
    "        svm.fit(X_train, y_train)\n",
    "        train_score = accuracy_score(y_train, svm.predict(X_train))\n",
    "        results[kernel]['train_scores'].append(train_score)\n",
    "        \n",
    "        # Calcular puntuación de validación cruzada\n",
    "        cv_score = np.mean(cross_val_score(svm, X_train, y_train, cv=5))\n",
    "        results[kernel]['cv_scores'].append(cv_score)\n",
    "        \n",
    "        # Calcular puntuación de prueba\n",
    "        test_score = accuracy_score(y_test, svm.predict(X_test))\n",
    "        results[kernel]['test_scores'].append(test_score)\n",
    "\n",
    "# Encontrar la mejor combinación de kernel y C\n",
    "best_kernel = ''\n",
    "best_C = 0\n",
    "best_score = 0\n",
    "\n",
    "for kernel in kernels:\n",
    "    max_score_index = np.argmax(results[kernel]['cv_scores'])\n",
    "    if results[kernel]['cv_scores'][max_score_index] > best_score:\n",
    "        best_score = results[kernel]['cv_scores'][max_score_index]\n",
    "        best_kernel = kernel\n",
    "        best_C = C_values[max_score_index]\n",
    "\n",
    "# Graficar los resultados\n",
    "plt.figure(figsize=(15, 5))\n",
    "for i, kernel in enumerate(kernels):\n",
    "    plt.subplot(1, 3, i+1)\n",
    "    plt.plot(C_values, results[kernel]['train_scores'], label='Train')\n",
    "    plt.plot(C_values, results[kernel]['cv_scores'], label='Cross-validation')\n",
    "    plt.plot(C_values, results[kernel]['test_scores'], label='Test')\n",
    "    plt.xscale('log')\n",
    "    plt.xlabel('C')\n",
    "    plt.ylabel('Accuracy')\n",
    "    plt.title(f'SVM con kernel {kernel}')\n",
    "    plt.legend()\n",
    "plt.tight_layout()\n",
    "plt.show()\n",
    "\n",
    "print(f\"El mejor kernel es: {best_kernel}\")\n",
    "print(f\"El mejor valor de C es: {best_C}\")\n",
    "print(f\"Precisión de validación cruzada con los mejores parámetros: {best_score:.4f}\")\n",
    "\n",
    "# Entrenar el modelo final con los mejores parámetros\n",
    "best_svm = SVC(C=best_C, kernel=best_kernel, random_state=42)\n",
    "best_svm.fit(X_train, y_train)\n",
    "\n",
    "# Evaluar en el conjunto de prueba\n",
    "final_accuracy = accuracy_score(y_test, best_svm.predict(X_test))\n",
    "print(f\"Precisión final en el conjunto de prueba: {final_accuracy:.4f}\")\n",
    "\n",
    "# Calcular el overfitting\n",
    "train_error = 1 - accuracy_score(y_train, best_svm.predict(X_train))\n",
    "test_error = 1 - final_accuracy\n",
    "overfitting = test_error - train_error\n",
    "print(f\"Overfitting: {overfitting:.4f}\")"
   ]
  },
  {
   "cell_type": "markdown",
   "metadata": {},
   "source": [
    "#### Evaluación del Modelo (Predicciones)\n",
    "\n",
    "Se hacen predicciones sobre el conjunto de prueba usando el modelo entrenado.\n",
    "\n",
    "* Informe de Clasificación y Matriz de Confusión\n",
    "\n",
    "    * classification_report: Muestra varias métricas de evaluación, como precisión (accuracy), recall, F1-score, etc.\n",
    "\n",
    "    * confusion_matrix: Muestra la matriz de confusión, que ayuda a entender cómo de bien el modelo está clasificando las etiquetas correctas frente a las incorrectas."
   ]
  },
  {
   "cell_type": "code",
   "execution_count": null,
   "metadata": {},
   "outputs": [],
   "source": [
    "# Evaluar el modelo\n",
    "from sklearn.metrics import classification_report, confusion_matrix\n",
    "\n",
    "y_pred = best_svm.predict(X_test)\n",
    "\n",
    "print(\"Classification Report:\\n\", classification_report(y_test, y_pred))\n",
    "print(\"Confusion Matrix:\\n\", confusion_matrix(y_test, y_pred))\n"
   ]
  },
  {
   "cell_type": "markdown",
   "metadata": {},
   "source": [
    "        CONCLUSION: \n",
    "\n",
    "        En general, los resultados de clasificación son bastante buenos. La precisión, recall y F1-score son altos para ambas categorías, lo que indica que el modelo está clasificando correctamente la mayoría de los casos. La precisión general también es alta, lo que significa que el modelo está realizando una buena clasificación en general.\n",
    "\n",
    "\n",
    "        Resumen de los resultados:\n",
    "\n",
    "        * Precisión: Mide la proporción de casos correctamente clasificados entre todos los casos clasificados como esa categoría. En este caso, la precisión para \"neutral o insatisfecho\" es de 0,92, lo que significa que el 92% de los casos clasificados como \"neutral o insatisfecho\" lo eran realmente. La precisión para \"satisfecho\" también es de 0,92.\n",
    "\n",
    "        * Recall: Mide la proporción de casos correctamente clasificados de una categoría entre todos los casos que realmente pertenecen a esa categoría. Aquí, el recall para \"neutral o insatisfecho\" es de 0,94, indicando que el 94% de los casos que realmente eran \"neutral o insatisfecho\" fueron correctamente clasificados. El recall para \"satisfecho\" es de 0,89.\n",
    "\n",
    "        * F1-score: Es la media armónica de precisión y recall, proporciona un equilibrio entre ambos. En este caso, el F1-score para ambas categorías es de 0,92.\n",
    "\n",
    "        * Accuracy: Mide la proporción total de casos correctamente clasificados entre todos los casos. La precisión general es de 0,92, lo que significa que el 92% de todos los casos fueron clasificados correctamente.\n",
    "        Matriz de confusión: Muestra la distribución de casos clasificados correctamente e incorrectamente entre las categorías. Por ejemplo, la entrada [13900, 834] indica que 13900 casos fueron correctamente clasificados como \"neutral o insatisfecho\" y 834 casos fueron incorrectamente clasificados como \"neutral o insatisfecho\" cuando en realidad eran \"satisfechos\".\n",
    "\n"
   ]
  },
  {
   "cell_type": "markdown",
   "metadata": {},
   "source": [
    "#### Curva ROC y AUC "
   ]
  },
  {
   "cell_type": "code",
   "execution_count": null,
   "metadata": {},
   "outputs": [],
   "source": [
    "from sklearn.metrics import roc_curve, auc\n",
    "\n",
    "def calculate_roc(best_knnsvm, X_test, y_test):\n",
    "    \n",
    "    # Obtener las probabilidades predichas para la clase positiva\n",
    "    y_pred_proba = best_svm.predict_proba(X_test)[:, 1]\n",
    "    \n",
    "    # Calcular la curva ROC\n",
    "    fpr, tpr, thresholds  = roc_curve(y_test, y_pred_proba)\n",
    "    roc_auc = auc(fpr, tpr)\n",
    "    \n",
    "    return fpr, tpr, roc_auc\n",
    "\n",
    "# Paso 3: Graficar la curva ROC\n",
    "def plot_roc(fpr, tpr, roc_auc):\n",
    "    plt.figure()\n",
    "    plt.plot(fpr, tpr, color='darkorange', lw=2, label=f'ROC curve (area = {roc_auc:.2f})')\n",
    "    plt.plot([0, 1], [0, 1], color='navy', lw=2, linestyle='--')\n",
    "    plt.xlim([0.0, 1.0])\n",
    "    plt.ylim([0.0, 1.05])\n",
    "    plt.xlabel('False Positive Rate')\n",
    "    plt.ylabel('True Positive Rate')\n",
    "    plt.title('Receiver Operating Characteristic (ROC)')\n",
    "    plt.legend(loc=\"lower right\")\n",
    "    plt.show()\n",
    "    \n",
    "\n",
    "# Uso de las funciones\n",
    "fpr, tpr, roc_auc = calculate_roc(best_svm, X_test, y_test)\n",
    "plot_roc(fpr, tpr, roc_auc)\n",
    "\n",
    "# Opcional: Imprimir los valores de y_test para verificar\n",
    "print(\"Valores únicos en y_test:\", y_test.unique())\n",
    "print(\"Conteo de valores en y_test:\\n\", y_test.value_counts())"
   ]
  },
  {
   "cell_type": "markdown",
   "metadata": {},
   "source": [
    "        CONCLUSIÓN:\n",
    "        \n",
    "        La curva ROC y el valor AUC indican que el modelo de clasificación utilizado tiene un excelente desempeño.Es capaz de distinguir con alta precisión entre las dos clases."
   ]
  },
  {
   "cell_type": "markdown",
   "metadata": {},
   "source": [
    "#### Validación Cruzada"
   ]
  },
  {
   "cell_type": "code",
   "execution_count": null,
   "metadata": {},
   "outputs": [],
   "source": [
    "from sklearn.model_selection import cross_val_score\n",
    "\n",
    "\n",
    "scores = cross_val_score(best_svm, X_train, y_train, cv=5, scoring='accuracy')\n",
    "print(\"Cross-Validation Accuracy Scores:\", scores)\n",
    "print(\"Mean Accuracy:\", scores.mean())\n"
   ]
  },
  {
   "cell_type": "markdown",
   "metadata": {},
   "source": [
    "    CONCLUSION:\n",
    "\n",
    "    Según los resultados obtenidos, el rendimiento del modelo en la validación cruzada es relativamente constante en los distintos pliegues. La precisión media de aproximadamente 0,9183 indica que el modelo está logrando un alto nivel de precisión en promedio."
   ]
  }
 ],
 "metadata": {
  "kernelspec": {
   "display_name": ".venv",
   "language": "python",
   "name": "python3"
  },
  "language_info": {
   "codemirror_mode": {
    "name": "ipython",
    "version": 3
   },
   "file_extension": ".py",
   "mimetype": "text/x-python",
   "name": "python",
   "nbconvert_exporter": "python",
   "pygments_lexer": "ipython3",
   "version": "3.12.4"
  }
 },
 "nbformat": 4,
 "nbformat_minor": 2
}
