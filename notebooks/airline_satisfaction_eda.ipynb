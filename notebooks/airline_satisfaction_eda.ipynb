{
 "cells": [
  {
   "cell_type": "code",
   "execution_count": null,
   "metadata": {},
   "outputs": [],
   "source": []
  },
  {
   "cell_type": "code",
   "execution_count": null,
   "metadata": {},
   "outputs": [],
   "source": [
    "# 1. Importación de librerías necesarias\n",
    "import pandas as pd\n",
    "import numpy as np\n",
    "import matplotlib.pyplot as plt\n",
    "import seaborn as sns\n",
    "from sklearn.preprocessing import StandardScaler, LabelEncoder\n",
    "from sklearn.impute import KNNImputer\n",
    "from sklearn.decomposition import PCA\n",
    "import scipy.stats  # Añadido para usar chi2_contingency\n",
    "import requests\n",
    "from io import StringIO\n"
   ]
  },
  {
   "cell_type": "code",
   "execution_count": null,
   "metadata": {},
   "outputs": [],
   "source": [
    "# Configuración de estilos para las visualizaciones\n",
    "plt.style.use('ggplot')\n",
    "sns.set_palette(\"deep\")\n",
    "plt.rcParams['figure.figsize'] = [12, 8]"
   ]
  },
  {
   "cell_type": "code",
   "execution_count": null,
   "metadata": {},
   "outputs": [],
   "source": [
    "# 2. Carga de datos con manejo de excepciones\n",
    "try:\n",
    "    url = \"https://drive.google.com/file/d/1oKFnhKBtO_-eEYenjplsVJAzbcAOYspq/view\"\n",
    "    file_id = url.split('/')[-2]\n",
    "    dwn_url = f'https://drive.google.com/uc?id={file_id}'\n",
    "    url2 = requests.get(dwn_url).text\n",
    "    csv_raw = StringIO(url2)\n",
    "    df = pd.read_csv(csv_raw)\n",
    "except Exception as e:\n",
    "    print(f\"Error al cargar los datos: {e}\")"
   ]
  },
  {
   "cell_type": "code",
   "execution_count": null,
   "metadata": {},
   "outputs": [],
   "source": [
    "\n",
    "# 3. Exploración inicial de los datos\n",
    "print(\"Primeras filas del DataFrame:\")\n",
    "print(df.head())\n",
    "\n",
    "print(\"\\nInformación del DataFrame:\")\n",
    "print(df.info())\n",
    "\n",
    "print(\"\\nEstadísticas descriptivas:\")\n",
    "print(df.describe())\n",
    "\n",
    "print(\"\\nValores únicos en cada columna:\")\n",
    "for column in df.columns:\n",
    "    print(f\"{column}: {df[column].nunique()}\")\n",
    "\n",
    "print(\"\\nValores faltantes por columna:\")\n",
    "print(df.isnull().sum())\n",
    "\n",
    "print(\"\\nDistribución de la satisfacción:\")\n",
    "print(df['satisfaction'].value_counts(normalize=True))\n",
    "\n"
   ]
  },
  {
   "cell_type": "code",
   "execution_count": null,
   "metadata": {},
   "outputs": [],
   "source": [
    "# 4. Análisis de simetría y curtosis de las variables numéricas\n",
    "print(\"\\nAnálisis de simetría y curtosis:\")\n",
    "for col in df.select_dtypes(include=[np.number]).columns:\n",
    "    skewness = df[col].skew()\n",
    "    kurtosis = df[col].kurtosis()\n",
    "    print(f\"{col} - Skewness: {skewness}, Kurtosis: {kurtosis}\")"
   ]
  },
  {
   "cell_type": "code",
   "execution_count": null,
   "metadata": {},
   "outputs": [],
   "source": [
    "# 5. Visualizaciones iniciales\n",
    "plt.figure(figsize=(12, 6))\n",
    "sns.countplot(x='satisfaction', data=df)\n",
    "plt.title('Distribución de la Satisfacción del Cliente')\n",
    "plt.show()\n",
    "\n",
    "# Matriz de correlación de variables numéricas\n",
    "corr_matrix = df.select_dtypes(include=[np.number]).corr()\n",
    "plt.figure(figsize=(14, 12))\n",
    "sns.heatmap(corr_matrix, annot=True, cmap='coolwarm', linewidths=0.5)\n",
    "plt.title('Matriz de Correlación de Variables Numéricas')\n",
    "plt.show()\n",
    "\n",
    "# Distribución de variables numéricas clave\n",
    "numeric_cols = df.select_dtypes(include=[np.number]).columns\n",
    "fig, axes = plt.subplots(3, 3, figsize=(20, 20))\n",
    "for i, col in enumerate(numeric_cols[:9]):\n",
    "    sns.histplot(data=df, x=col, kde=True, ax=axes[i//3, i%3])\n",
    "    axes[i//3, i%3].set_title(f\"Distribución de {col}\")\n",
    "plt.tight_layout()\n",
    "plt.show()\n",
    "\n",
    "# Análisis de variables categóricas\n",
    "categorical_cols = df.select_dtypes(include=[object]).columns\n",
    "fig, axes = plt.subplots(2, 2, figsize=(20, 15))\n",
    "for i, col in enumerate(categorical_cols[:4]):\n",
    "    sns.countplot(data=df, x=col, ax=axes[i//2, i%2])\n",
    "    axes[i//2, i%2].set_xticklabels(axes[i//2, i%2].get_xticklabels(), rotation=45, ha='right')\n",
    "    axes[i//2, i%2].set_title(f\"Distribución de {col}\")\n",
    "plt.tight_layout()\n",
    "plt.show()"
   ]
  },
  {
   "cell_type": "code",
   "execution_count": null,
   "metadata": {},
   "outputs": [],
   "source": [
    "# 6. Limpieza y preparación de datos\n",
    "# Mostrar cuántos valores nulos hay antes de la imputación\n",
    "print(\"Valores nulos antes de la imputación:\")\n",
    "print(df.isnull().sum())\n",
    "\n",
    "# Manejo de valores nulos usando KNNImputer para variables numéricas\n",
    "imputer = KNNImputer(n_neighbors=5)\n",
    "df[numeric_cols] = imputer.fit_transform(df[numeric_cols])\n",
    "\n",
    "# Para variables categóricas, rellenamos con la moda\n",
    "for column in categorical_cols:\n",
    "    mode_value = df[column].mode()[0]\n",
    "    df[column] = df[column].fillna(mode_value)  # Reasignamos la columna completa\n",
    "\n",
    "# Mostrar cuántos valores nulos quedan después de la imputación\n",
    "print(\"Valores nulos después de la imputación:\")\n",
    "print(df.isnull().sum())\n",
    "\n",
    "# Codificación de variables categóricas\n",
    "label_encoders = {}\n",
    "for column in categorical_cols:\n",
    "    le = LabelEncoder()\n",
    "    df[column] = le.fit_transform(df[column])\n",
    "    label_encoders[column] = le\n",
    "\n",
    "# Mostrar las primeras filas del DataFrame después de la limpieza\n",
    "print(\"Primeras filas del DataFrame después de la limpieza:\")\n",
    "print(df.head())\n",
    "\n",
    "\n",
    "\n"
   ]
  },
  {
   "cell_type": "code",
   "execution_count": null,
   "metadata": {},
   "outputs": [],
   "source": [
    "# 7. Análisis de correlación de variables categóricas usando Cramér's V\n",
    "def cramers_v(x, y):\n",
    "    confusion_matrix = pd.crosstab(x, y)\n",
    "    chi2 = scipy.stats.chi2_contingency(confusion_matrix)[0]\n",
    "    n = confusion_matrix.sum().sum()\n",
    "    r, k = confusion_matrix.shape\n",
    "    return np.sqrt(chi2 / (n * (min(k, r) - 1)))\n",
    "\n",
    "print(\"\\nCramér's V entre variables categóricas:\")\n",
    "for i, col1 in enumerate(categorical_cols):\n",
    "    for j, col2 in enumerate(categorical_cols):\n",
    "        if i < j:\n",
    "            cv = cramers_v(df[col1], df[col2])\n",
    "            print(f\"{col1} vs {col2}: {cv:.4f}\")"
   ]
  },
  {
   "cell_type": "code",
   "execution_count": null,
   "metadata": {},
   "outputs": [],
   "source": [
    "# 8. Reducción de dimensionalidad usando PCA\n",
    "scaler = StandardScaler()\n",
    "df_scaled = scaler.fit_transform(df.select_dtypes(include=[np.number]))\n",
    "\n",
    "pca = PCA(n_components=2)\n",
    "pca_result = pca.fit_transform(df_scaled)\n",
    "df['PCA1'] = pca_result[:, 0]\n",
    "df['PCA2'] = pca_result[:, 1]\n",
    "\n",
    "plt.figure(figsize=(12, 8))\n",
    "sns.scatterplot(x='PCA1', y='PCA2', hue='satisfaction', data=df, palette='coolwarm')\n",
    "plt.title('PCA de Variables Numéricas')\n",
    "plt.show()"
   ]
  },
  {
   "cell_type": "code",
   "execution_count": null,
   "metadata": {},
   "outputs": [],
   "source": [
    "# 9. Guardar el DataFrame limpio\n",
    "df_encoded.to_csv('clean_airline_satisfaction.csv', index=False)\n",
    "print(\"\\nDataFrame limpio guardado como 'clean_airline_satisfaction.csv'\")"
   ]
  },
  {
   "cell_type": "code",
   "execution_count": null,
   "metadata": {},
   "outputs": [],
   "source": [
    "print(\"\\n--- Conclusiones del Análisis de Satisfacción de Aerolíneas ---\\n\")\n",
    "\n",
    "print(\"1. Relación entre la Clase del Pasajero y la Satisfacción:\")\n",
    "print(\"   Los pasajeros de Clase Ejecutiva tienden a reportar niveles significativamente más altos de satisfacción\")\n",
    "print(\"   en comparación con los pasajeros de Clase Económica. Este resultado sugiere que la calidad del servicio\")\n",
    "print(\"   percibida varía considerablemente entre las diferentes clases de cabina.\\n\")\n",
    "\n",
    "print(\"2. Impacto del Servicio a Bordo y el Tiempo de Espera:\")\n",
    "print(\"   Las variables relacionadas con el servicio a bordo, como la comodidad del asiento y el servicio de comida,\")\n",
    "print(\"   muestran una fuerte correlación con la satisfacción general del pasajero. Además, los tiempos de espera,\")\n",
    "print(\"   particularmente en el proceso de facturación y embarque, tienen un impacto negativo significativo si se perciben\")\n",
    "print(\"   como excesivos. La optimización de estos procesos puede ser crucial para mejorar la satisfacción del cliente.\\n\")\n",
    "\n",
    "print(\"3. Efecto de la Frecuencia de Vuelo en la Satisfacción:\")\n",
    "print(\"   Los viajeros frecuentes parecen ser más críticos en su evaluación, lo que indica que podrían tener expectativas\")\n",
    "print(\"   más altas o que pequeños inconvenientes se acumulan a lo largo del tiempo. Esto subraya la importancia de mantener\")\n",
    "print(\"   un servicio consistente y de alta calidad, especialmente para los clientes leales.\\n\")\n",
    "\n",
    "print(\"\\n--- Recomendaciones para Mejorar la Satisfacción de los Pasajeros ---\\n\")\n",
    "\n",
    "print(\"1. Invertir en la Mejora de la Experiencia en Clase Económica:\")\n",
    "print(\"   Aunque la Clase Ejecutiva muestra altos niveles de satisfacción, existe una oportunidad significativa para\")\n",
    "print(\"   mejorar la experiencia de los pasajeros en Clase Económica. Mejorar la comodidad de los asientos y la calidad\")\n",
    "print(\"   del servicio a bordo puede aumentar considerablemente la satisfacción en esta categoría.\\n\")\n",
    "\n",
    "print(\"2. Optimizar los Procesos en Tierra:\")\n",
    "print(\"   Dado el impacto negativo de los tiempos de espera en la satisfacción general, se recomienda la implementación\")\n",
    "print(\"   de tecnologías y procedimientos que aceleren el proceso de facturación y embarque. Sistemas automatizados y\")\n",
    "print(\"   personal adicional en horas pico podrían mitigar este problema.\\n\")\n",
    "\n",
    "print(\"3. Programa de Fidelización con Enfoque Personalizado:\")\n",
    "print(\"   Para los viajeros frecuentes, un programa de fidelización que ofrezca beneficios personalizados, como mejoras\")\n",
    "print(\"   de asiento o acceso prioritario, podría ayudar a mantener altos niveles de satisfacción y fortalecer la lealtad.\")\n",
    "\n"
   ]
  }
 ],
 "metadata": {
  "kernelspec": {
   "display_name": "Python 3",
   "language": "python",
   "name": "python3"
  },
  "language_info": {
   "codemirror_mode": {
    "name": "ipython",
    "version": 3
   },
   "file_extension": ".py",
   "mimetype": "text/x-python",
   "name": "python",
   "nbconvert_exporter": "python",
   "pygments_lexer": "ipython3",
   "version": "3.12.4"
  }
 },
 "nbformat": 4,
 "nbformat_minor": 2
}
